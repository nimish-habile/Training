{
 "cells": [
  {
   "cell_type": "code",
   "execution_count": 1,
   "metadata": {},
   "outputs": [
    {
     "name": "stdout",
     "output_type": "stream",
     "text": [
      "Sorry! Cannot divide by zero. \n",
      "This is finally block and it is always executed.\n",
      "Please enter a numeric value in both the fields.\n",
      "This is finally block and it is always executed.\n",
      "The result of division is 0.8888888888888888.\n",
      "This is finally block and it is always executed.\n"
     ]
    }
   ],
   "source": [
    "def errorHandler():\n",
    "    try:\n",
    "        a=int(input(\"Enter a number : \"))\n",
    "        b=int(input(\"Enter a number : \"))\n",
    "        ans=a/b\n",
    "    except ValueError:\n",
    "        print(\"Please enter a numeric value in both the fields.\")\n",
    "        return 0\n",
    "    except ZeroDivisionError: \n",
    "        print(\"Sorry! Cannot divide by zero. \") \n",
    "        return 0\n",
    "    except:\n",
    "        print(\"Some unknown error.\")\n",
    "    else:\n",
    "        print(f\"The result of division is {ans}.\")\n",
    "        return 1\n",
    "    finally:\n",
    "        print(\"This is finally block and it is always executed.\")\n",
    "\n",
    "\n",
    "while errorHandler()==0:\n",
    "    pass"
   ]
  },
  {
   "cell_type": "code",
   "execution_count": 1,
   "metadata": {},
   "outputs": [],
   "source": [
    "k=input()\n",
    "if(k==0):\n",
    "    print(\"Yes\")"
   ]
  }
 ],
 "metadata": {
  "kernelspec": {
   "display_name": "Python 3",
   "language": "python",
   "name": "python3"
  },
  "language_info": {
   "codemirror_mode": {
    "name": "ipython",
    "version": 3
   },
   "file_extension": ".py",
   "mimetype": "text/x-python",
   "name": "python",
   "nbconvert_exporter": "python",
   "pygments_lexer": "ipython3",
   "version": "3.12.4"
  }
 },
 "nbformat": 4,
 "nbformat_minor": 2
}
